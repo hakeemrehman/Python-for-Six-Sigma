{
 "cells": [
  {
   "cell_type": "code",
   "execution_count": 6,
   "metadata": {},
   "outputs": [],
   "source": [
    "import numpy as np\n",
    "import pandas as pd\n",
    "import matplotlib.pyplot as plt\n",
    "from scipy import stats"
   ]
  },
  {
   "cell_type": "code",
   "execution_count": 7,
   "metadata": {},
   "outputs": [
    {
     "data": {
      "text/html": [
       "<div>\n",
       "<style scoped>\n",
       "    .dataframe tbody tr th:only-of-type {\n",
       "        vertical-align: middle;\n",
       "    }\n",
       "\n",
       "    .dataframe tbody tr th {\n",
       "        vertical-align: top;\n",
       "    }\n",
       "\n",
       "    .dataframe thead th {\n",
       "        text-align: right;\n",
       "    }\n",
       "</style>\n",
       "<table border=\"1\" class=\"dataframe\">\n",
       "  <thead>\n",
       "    <tr style=\"text-align: right;\">\n",
       "      <th></th>\n",
       "      <th>Diameter</th>\n",
       "    </tr>\n",
       "  </thead>\n",
       "  <tbody>\n",
       "    <tr>\n",
       "      <th>0</th>\n",
       "      <td>74.030</td>\n",
       "    </tr>\n",
       "    <tr>\n",
       "      <th>1</th>\n",
       "      <td>74.002</td>\n",
       "    </tr>\n",
       "    <tr>\n",
       "      <th>2</th>\n",
       "      <td>74.019</td>\n",
       "    </tr>\n",
       "    <tr>\n",
       "      <th>3</th>\n",
       "      <td>73.992</td>\n",
       "    </tr>\n",
       "    <tr>\n",
       "      <th>4</th>\n",
       "      <td>74.008</td>\n",
       "    </tr>\n",
       "  </tbody>\n",
       "</table>\n",
       "</div>"
      ],
      "text/plain": [
       "   Diameter\n",
       "0    74.030\n",
       "1    74.002\n",
       "2    74.019\n",
       "3    73.992\n",
       "4    74.008"
      ]
     },
     "execution_count": 7,
     "metadata": {},
     "output_type": "execute_result"
    }
   ],
   "source": [
    "df=pd.read_excel('D:/1. Analytics using Python/5. Python for Six Sigma/Process Capability Analysis Using Python/PistonRingDiameter.xlsx')\n",
    "df.head()"
   ]
  },
  {
   "cell_type": "code",
   "execution_count": 18,
   "metadata": {},
   "outputs": [
    {
     "data": {
      "image/png": "[encoded data removed]",
      "text/plain": [
       "<Figure size 432x288 with 1 Axes>"
      ]
     },
     "metadata": {
      "needs_background": "light"
     },
     "output_type": "display_data"
    }
   ],
   "source": [
    "# Test normality of data distribution\n",
    "fig = plt.figure()\n",
    "ax1 = fig.add_subplot(111) # 111 is equivalent to nrows=1, ncols=1, plot_number=1.\n",
    "prob = stats.probplot(df['Diameter'], dist=stats.norm, plot=ax1)\n",
    "ax1.set_xlabel('')\n",
    "ax1.set_title('Probability plot against normal distribution')\n",
    "plt.show()"
   ]
  },
  {
   "cell_type": "code",
   "execution_count": 9,
   "metadata": {},
   "outputs": [
    {
     "data": {
      "image/png": "[encoded data removed]",
      "text/plain": [
       "<Figure size 432x288 with 1 Axes>"
      ]
     },
     "metadata": {
      "needs_background": "light"
     },
     "output_type": "display_data"
    }
   ],
   "source": [
    "fig = plt.figure()\n",
    "ax1 = fig.add_subplot(111)\n",
    "plot = plt.hist(df['Diameter'])\n",
    "plt.show()"
   ]
  },
  {
   "cell_type": "code",
   "execution_count": 11,
   "metadata": {},
   "outputs": [
    {
     "data": {
      "text/plain": [
       "AndersonResult(statistic=0.19333225380320584, critical_values=array([0.559, 0.637, 0.764, 0.891, 1.06 ]), significance_level=array([15. , 10. ,  5. ,  2.5,  1. ]))"
      ]
     },
     "execution_count": 11,
     "metadata": {},
     "output_type": "execute_result"
    }
   ],
   "source": [
    "# Anderson-Darling test tests if the null hypothesis that a sample from a population follows a particular distribution.\n",
    "stats.anderson(df['Diameter'], dist='norm') #  To test, the distribution of the dataset is normal."
   ]
  },
  {
   "cell_type": "markdown",
   "metadata": {},
   "source": [
    " - It returns the Anderson-Darling statistic, a list of critical values for this distribution, and a list of significance levels for the corresponding critical values in percent. \n",
    " - If the returned statistic is larger than the critical value at the chosen significant level, the null hypothesis can be rejected that says that the data come from a normal distribution. \n",
    " - In this case, The Anderson_Darling statistic is 0.1933, smaller than 0.764, the critical value at 5% significant level. Therefore, we can’t reject the null hypothesis and conclude that the distribution is normal."
   ]
  },
  {
   "cell_type": "code",
   "execution_count": 12,
   "metadata": {},
   "outputs": [
    {
     "data": {
      "text/plain": [
       "NormaltestResult(statistic=1.244555012372961, pvalue=0.5367206599196641)"
      ]
     },
     "execution_count": 12,
     "metadata": {},
     "output_type": "execute_result"
    }
   ],
   "source": [
    "stats.normaltest(df['Diameter'])"
   ]
  },
  {
   "cell_type": "markdown",
   "metadata": {},
   "source": [
    " - The above conclusion is confirmed by the test using stats.normaltest( ) function.\n",
    " - The stats.normaltest( ) function, based on D’Agostino and Pearson’s test that combines skew and kurtosis, tests the null hypothesis that the distribution is normal. \n",
    " - Since the p-value from this test is 0.5367, larger than 0.05, distribution of the data is normal"
   ]
  },
  {
   "cell_type": "code",
   "execution_count": 13,
   "metadata": {},
   "outputs": [],
   "source": [
    "x = df['Diameter']\n",
    "# Define the Cp index\n",
    "def Cp(x, usl, lsl):\n",
    "    sigma = x.std()\n",
    "    Cp = (usl - lsl) / (6*sigma)\n",
    "    return Cp"
   ]
  },
  {
   "cell_type": "code",
   "execution_count": 14,
   "metadata": {},
   "outputs": [],
   "source": [
    "# Define the Cpk index\n",
    "def Cpk(x, usl, lsl):\n",
    "    sigma = x.std()\n",
    "    m = x.mean()\n",
    "    Cpu = (usl - m) / (3*sigma)\n",
    "    Cpl = (m - lsl) / (3*sigma)\n",
    "    Cpk = np.min([Cpu, Cpl] )\n",
    "    return Cpk"
   ]
  },
  {
   "cell_type": "code",
   "execution_count": 15,
   "metadata": {},
   "outputs": [],
   "source": [
    "# Define the specification limits\n",
    "usl = 74.05\n",
    "lsl = 73.95"
   ]
  },
  {
   "cell_type": "code",
   "execution_count": 16,
   "metadata": {},
   "outputs": [
    {
     "name": "stdout",
     "output_type": "stream",
     "text": [
      "Cp is:  1.6341663028555253\n"
     ]
    }
   ],
   "source": [
    "# Calculate the Cp value\n",
    "Cp = Cp(x, usl, lsl)\n",
    "print(\"Cp is: \", Cp)"
   ]
  },
  {
   "cell_type": "code",
   "execution_count": 17,
   "metadata": {},
   "outputs": [
    {
     "name": "stdout",
     "output_type": "stream",
     "text": [
      "Cpk is:  1.5957307114127943\n"
     ]
    }
   ],
   "source": [
    "Cpk = Cpk(x, usl, lsl)\n",
    "print(\"Cpk is: \", Cpk)"
   ]
  },
  {
   "cell_type": "code",
   "execution_count": null,
   "metadata": {},
   "outputs": [],
   "source": []
  }
 ],
 "metadata": {
  "kernelspec": {
   "display_name": "Python 3",
   "language": "python",
   "name": "python3"
  },
  "language_info": {
   "codemirror_mode": {
    "name": "ipython",
    "version": 3
   },
   "file_extension": ".py",
   "mimetype": "text/x-python",
   "name": "python",
   "nbconvert_exporter": "python",
   "pygments_lexer": "ipython3",
   "version": "3.8.5"
  }
 },
 "nbformat": 4,
 "nbformat_minor": 4
}
